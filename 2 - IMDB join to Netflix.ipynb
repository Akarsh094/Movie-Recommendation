{
 "cells": [
  {
   "cell_type": "code",
   "execution_count": 20,
   "metadata": {},
   "outputs": [],
   "source": [
    "import os\n",
    "os.chdir(\"C:\\\\Users\\\\akars\\\\OneDrive\\\\Desktop\\\\MScA Spring\\\\Data Mining\\\\Project\\\\Final Project\\\\IMDB Datasets\")\n",
    "import pandas as pd\n"
   ]
  },
  {
   "cell_type": "code",
   "execution_count": 2,
   "metadata": {},
   "outputs": [
    {
     "name": "stderr",
     "output_type": "stream",
     "text": [
      "C:\\Users\\akars\\Anaconda3\\lib\\site-packages\\ipykernel_launcher.py:2: FutureWarning: from_csv is deprecated. Please use read_csv(...) instead. Note that some of the default arguments are different, so please refer to the documentation for from_csv when changing your function calls\n",
      "  \n",
      "C:\\Users\\akars\\Anaconda3\\lib\\site-packages\\ipykernel_launcher.py:3: FutureWarning: from_csv is deprecated. Please use read_csv(...) instead. Note that some of the default arguments are different, so please refer to the documentation for from_csv when changing your function calls\n",
      "  This is separate from the ipykernel package so we can avoid doing imports until\n",
      "C:\\Users\\akars\\Anaconda3\\lib\\site-packages\\IPython\\core\\interactiveshell.py:3214: DtypeWarning: Columns (5) have mixed types. Specify dtype option on import or set low_memory=False.\n",
      "  if (yield from self.run_code(code, result)):\n",
      "C:\\Users\\akars\\Anaconda3\\lib\\site-packages\\ipykernel_launcher.py:4: FutureWarning: from_csv is deprecated. Please use read_csv(...) instead. Note that some of the default arguments are different, so please refer to the documentation for from_csv when changing your function calls\n",
      "  after removing the cwd from sys.path.\n",
      "C:\\Users\\akars\\Anaconda3\\lib\\site-packages\\IPython\\core\\interactiveshell.py:3214: DtypeWarning: Columns (7) have mixed types. Specify dtype option on import or set low_memory=False.\n",
      "  if (yield from self.run_code(code, result)):\n",
      "C:\\Users\\akars\\Anaconda3\\lib\\site-packages\\ipykernel_launcher.py:5: FutureWarning: from_csv is deprecated. Please use read_csv(...) instead. Note that some of the default arguments are different, so please refer to the documentation for from_csv when changing your function calls\n",
      "  \"\"\"\n",
      "C:\\Users\\akars\\Anaconda3\\lib\\site-packages\\ipykernel_launcher.py:6: FutureWarning: from_csv is deprecated. Please use read_csv(...) instead. Note that some of the default arguments are different, so please refer to the documentation for from_csv when changing your function calls\n",
      "  \n",
      "C:\\Users\\akars\\Anaconda3\\lib\\site-packages\\ipykernel_launcher.py:7: FutureWarning: from_csv is deprecated. Please use read_csv(...) instead. Note that some of the default arguments are different, so please refer to the documentation for from_csv when changing your function calls\n",
      "  import sys\n"
     ]
    }
   ],
   "source": [
    "from pandas import DataFrame\n",
    "name_basics = DataFrame.from_csv('name.basics.tsv', sep=\"\\t\")\n",
    "title_basics = DataFrame.from_csv('title.basics.tsv', sep=\"\\t\")\n",
    "title_akas = DataFrame.from_csv('title.akas.tsv', sep=\"\\t\")\n",
    "title_crew = DataFrame.from_csv('title.crew.tsv', sep=\"\\t\")\n",
    "title_principals = DataFrame.from_csv('title.principals.tsv', sep=\"\\t\")\n",
    "title_ratings = DataFrame.from_csv('title.ratings.tsv', sep=\"\\t\")"
   ]
  },
  {
   "cell_type": "code",
   "execution_count": 3,
   "metadata": {},
   "outputs": [],
   "source": [
    "def float_generator(mylist):\n",
    "    newlist = []\n",
    "    for n in mylist:\n",
    "        try:\n",
    "            newlist.append(float(n))\n",
    "        except ValueError:\n",
    "            newlist.append(3000);\n",
    "    return newlist\n"
   ]
  },
  {
   "cell_type": "code",
   "execution_count": 4,
   "metadata": {},
   "outputs": [],
   "source": [
    "title_basics.index.name = 'tconst'\n",
    "title_basics.reset_index(inplace=True)\n",
    "\n",
    "\n",
    "title_basics.head(5)\n",
    "title_basics.startYear = float_generator(title_basics.startYear)\n",
    "\n",
    "title_basics = title_basics[(title_basics.startYear <= 2005)]\n",
    "#title_basics = title_basics[(title_basics.titleType == \"movie\")]\n",
    "\n"
   ]
  },
  {
   "cell_type": "code",
   "execution_count": 5,
   "metadata": {},
   "outputs": [],
   "source": [
    "title_crew.index.name = 'tconst'\n",
    "title_crew.reset_index(inplace=True)\n"
   ]
  },
  {
   "cell_type": "code",
   "execution_count": 6,
   "metadata": {},
   "outputs": [],
   "source": [
    "title_principals.index.name = 'tconst'\n",
    "title_principals.reset_index(inplace=True)\n"
   ]
  },
  {
   "cell_type": "code",
   "execution_count": 7,
   "metadata": {},
   "outputs": [],
   "source": [
    "title_ratings.index.name = 'tconst'\n",
    "title_ratings.reset_index(inplace=True)\n"
   ]
  },
  {
   "cell_type": "code",
   "execution_count": 8,
   "metadata": {},
   "outputs": [],
   "source": [
    "name_basics.index.name = 'nconst'\n",
    "name_basics.reset_index(inplace=True)"
   ]
  },
  {
   "cell_type": "code",
   "execution_count": 9,
   "metadata": {},
   "outputs": [
    {
     "data": {
      "text/html": [
       "<div>\n",
       "<style scoped>\n",
       "    .dataframe tbody tr th:only-of-type {\n",
       "        vertical-align: middle;\n",
       "    }\n",
       "\n",
       "    .dataframe tbody tr th {\n",
       "        vertical-align: top;\n",
       "    }\n",
       "\n",
       "    .dataframe thead th {\n",
       "        text-align: right;\n",
       "    }\n",
       "</style>\n",
       "<table border=\"1\" class=\"dataframe\">\n",
       "  <thead>\n",
       "    <tr style=\"text-align: right;\">\n",
       "      <th></th>\n",
       "      <th>nconst</th>\n",
       "      <th>primaryName</th>\n",
       "      <th>birthYear</th>\n",
       "      <th>deathYear</th>\n",
       "      <th>primaryProfession</th>\n",
       "      <th>knownForTitles</th>\n",
       "    </tr>\n",
       "  </thead>\n",
       "  <tbody>\n",
       "    <tr>\n",
       "      <th>0</th>\n",
       "      <td>nm0000001</td>\n",
       "      <td>Fred Astaire</td>\n",
       "      <td>1899</td>\n",
       "      <td>1987</td>\n",
       "      <td>soundtrack,actor,miscellaneous</td>\n",
       "      <td>tt0043044,tt0072308,tt0053137,tt0050419</td>\n",
       "    </tr>\n",
       "    <tr>\n",
       "      <th>1</th>\n",
       "      <td>nm0000002</td>\n",
       "      <td>Lauren Bacall</td>\n",
       "      <td>1924</td>\n",
       "      <td>2014</td>\n",
       "      <td>actress,soundtrack</td>\n",
       "      <td>tt0038355,tt0037382,tt0117057,tt0071877</td>\n",
       "    </tr>\n",
       "    <tr>\n",
       "      <th>2</th>\n",
       "      <td>nm0000003</td>\n",
       "      <td>Brigitte Bardot</td>\n",
       "      <td>1934</td>\n",
       "      <td>\\N</td>\n",
       "      <td>actress,soundtrack,producer</td>\n",
       "      <td>tt0057345,tt0059956,tt0049189,tt0054452</td>\n",
       "    </tr>\n",
       "    <tr>\n",
       "      <th>3</th>\n",
       "      <td>nm0000004</td>\n",
       "      <td>John Belushi</td>\n",
       "      <td>1949</td>\n",
       "      <td>1982</td>\n",
       "      <td>actor,writer,soundtrack</td>\n",
       "      <td>tt0072562,tt0077975,tt0078723,tt0080455</td>\n",
       "    </tr>\n",
       "    <tr>\n",
       "      <th>4</th>\n",
       "      <td>nm0000005</td>\n",
       "      <td>Ingmar Bergman</td>\n",
       "      <td>1918</td>\n",
       "      <td>2007</td>\n",
       "      <td>writer,director,actor</td>\n",
       "      <td>tt0083922,tt0050986,tt0069467,tt0050976</td>\n",
       "    </tr>\n",
       "  </tbody>\n",
       "</table>\n",
       "</div>"
      ],
      "text/plain": [
       "      nconst      primaryName birthYear deathYear  \\\n",
       "0  nm0000001     Fred Astaire      1899      1987   \n",
       "1  nm0000002    Lauren Bacall      1924      2014   \n",
       "2  nm0000003  Brigitte Bardot      1934        \\N   \n",
       "3  nm0000004     John Belushi      1949      1982   \n",
       "4  nm0000005   Ingmar Bergman      1918      2007   \n",
       "\n",
       "                primaryProfession                           knownForTitles  \n",
       "0  soundtrack,actor,miscellaneous  tt0043044,tt0072308,tt0053137,tt0050419  \n",
       "1              actress,soundtrack  tt0038355,tt0037382,tt0117057,tt0071877  \n",
       "2     actress,soundtrack,producer  tt0057345,tt0059956,tt0049189,tt0054452  \n",
       "3         actor,writer,soundtrack  tt0072562,tt0077975,tt0078723,tt0080455  \n",
       "4           writer,director,actor  tt0083922,tt0050986,tt0069467,tt0050976  "
      ]
     },
     "execution_count": 9,
     "metadata": {},
     "output_type": "execute_result"
    }
   ],
   "source": [
    "name_basics.head()\n",
    "#title_basics.count()"
   ]
  },
  {
   "cell_type": "code",
   "execution_count": 10,
   "metadata": {},
   "outputs": [],
   "source": [
    "master_data = title_basics.join(title_crew.set_index('tconst'), on='tconst', how = 'left')\n"
   ]
  },
  {
   "cell_type": "code",
   "execution_count": 11,
   "metadata": {},
   "outputs": [
    {
     "data": {
      "text/plain": [
       "array(['self', 'director', 'cinematographer', 'composer', 'producer',\n",
       "       'editor', 'actor', 'actress', 'writer', 'production_designer',\n",
       "       'archive_footage', 'archive_sound'], dtype=object)"
      ]
     },
     "execution_count": 11,
     "metadata": {},
     "output_type": "execute_result"
    }
   ],
   "source": [
    "title_principals.category.unique()\n"
   ]
  },
  {
   "cell_type": "code",
   "execution_count": 12,
   "metadata": {
    "scrolled": false
   },
   "outputs": [
    {
     "data": {
      "text/html": [
       "<div>\n",
       "<style scoped>\n",
       "    .dataframe tbody tr th:only-of-type {\n",
       "        vertical-align: middle;\n",
       "    }\n",
       "\n",
       "    .dataframe tbody tr th {\n",
       "        vertical-align: top;\n",
       "    }\n",
       "\n",
       "    .dataframe thead th {\n",
       "        text-align: right;\n",
       "    }\n",
       "</style>\n",
       "<table border=\"1\" class=\"dataframe\">\n",
       "  <thead>\n",
       "    <tr style=\"text-align: right;\">\n",
       "      <th></th>\n",
       "      <th>tconst</th>\n",
       "      <th>ordering</th>\n",
       "      <th>nconst</th>\n",
       "      <th>category</th>\n",
       "      <th>job</th>\n",
       "      <th>characters</th>\n",
       "    </tr>\n",
       "  </thead>\n",
       "  <tbody>\n",
       "    <tr>\n",
       "      <th>0</th>\n",
       "      <td>tt0000001</td>\n",
       "      <td>1</td>\n",
       "      <td>nm1588970</td>\n",
       "      <td>self</td>\n",
       "      <td>\\N</td>\n",
       "      <td>[\"Herself\"]</td>\n",
       "    </tr>\n",
       "    <tr>\n",
       "      <th>1</th>\n",
       "      <td>tt0000001</td>\n",
       "      <td>2</td>\n",
       "      <td>nm0005690</td>\n",
       "      <td>director</td>\n",
       "      <td>\\N</td>\n",
       "      <td>\\N</td>\n",
       "    </tr>\n",
       "    <tr>\n",
       "      <th>2</th>\n",
       "      <td>tt0000001</td>\n",
       "      <td>3</td>\n",
       "      <td>nm0374658</td>\n",
       "      <td>cinematographer</td>\n",
       "      <td>director of photography</td>\n",
       "      <td>\\N</td>\n",
       "    </tr>\n",
       "    <tr>\n",
       "      <th>3</th>\n",
       "      <td>tt0000002</td>\n",
       "      <td>1</td>\n",
       "      <td>nm0721526</td>\n",
       "      <td>director</td>\n",
       "      <td>\\N</td>\n",
       "      <td>\\N</td>\n",
       "    </tr>\n",
       "    <tr>\n",
       "      <th>4</th>\n",
       "      <td>tt0000002</td>\n",
       "      <td>2</td>\n",
       "      <td>nm1335271</td>\n",
       "      <td>composer</td>\n",
       "      <td>\\N</td>\n",
       "      <td>\\N</td>\n",
       "    </tr>\n",
       "  </tbody>\n",
       "</table>\n",
       "</div>"
      ],
      "text/plain": [
       "      tconst  ordering     nconst         category                      job  \\\n",
       "0  tt0000001         1  nm1588970             self                       \\N   \n",
       "1  tt0000001         2  nm0005690         director                       \\N   \n",
       "2  tt0000001         3  nm0374658  cinematographer  director of photography   \n",
       "3  tt0000002         1  nm0721526         director                       \\N   \n",
       "4  tt0000002         2  nm1335271         composer                       \\N   \n",
       "\n",
       "    characters  \n",
       "0  [\"Herself\"]  \n",
       "1           \\N  \n",
       "2           \\N  \n",
       "3           \\N  \n",
       "4           \\N  "
      ]
     },
     "execution_count": 12,
     "metadata": {},
     "output_type": "execute_result"
    }
   ],
   "source": [
    "title_principals.head()"
   ]
  },
  {
   "cell_type": "code",
   "execution_count": 13,
   "metadata": {
    "scrolled": true
   },
   "outputs": [],
   "source": [
    "title_principals = title_principals.join(name_basics.set_index('nconst'), on='nconst', how = 'left')\n",
    "title_principals = title_principals[['tconst', 'category', 'primaryName']]\n",
    "title_principals = title_principals.pivot_table(index = 'tconst',  columns = ['category'], aggfunc=lambda x: ','.join(str(v) for v in x))"
   ]
  },
  {
   "cell_type": "code",
   "execution_count": 14,
   "metadata": {},
   "outputs": [
    {
     "name": "stderr",
     "output_type": "stream",
     "text": [
      "C:\\Users\\akars\\Anaconda3\\lib\\site-packages\\pandas\\core\\reshape\\merge.py:522: UserWarning: merging between different levels can give an unintended result (1 levels on the left, 2 on the right)\n",
      "  warnings.warn(msg, UserWarning)\n"
     ]
    }
   ],
   "source": [
    "title_principals.index.name = 'tconst'\n",
    "title_principals.reset_index(inplace=True)\n",
    "master_data = master_data.join(title_principals.set_index('tconst'), on='tconst', how = 'left')"
   ]
  },
  {
   "cell_type": "code",
   "execution_count": 15,
   "metadata": {},
   "outputs": [],
   "source": [
    "master_data = master_data.join(title_ratings.set_index('tconst'), on='tconst', how = 'left')"
   ]
  },
  {
   "cell_type": "code",
   "execution_count": 16,
   "metadata": {},
   "outputs": [
    {
     "data": {
      "text/plain": [
       "1781"
      ]
     },
     "execution_count": 16,
     "metadata": {},
     "output_type": "execute_result"
    }
   ],
   "source": [
    "master_data.genres.nunique()"
   ]
  },
  {
   "cell_type": "code",
   "execution_count": 17,
   "metadata": {},
   "outputs": [
    {
     "data": {
      "text/plain": [
       "['0                 Documentary',\n",
       " 'Short\\n1                   Animation',\n",
       " 'Short\\n2          Animation',\n",
       " 'Comedy',\n",
       " 'Romance\\n3                   Animation',\n",
       " 'Short\\n4                      Comedy',\n",
       " 'Short\\n5                             Short\\n6                       Short',\n",
       " 'Sport\\n7                 Documentary',\n",
       " 'Short\\n8                           Romance\\n9                 Documentary',\n",
       " 'Short\\n10                Documentary',\n",
       " 'Short\\n11         Action',\n",
       " 'Documentary',\n",
       " 'Short\\n12                Documentary',\n",
       " 'Short\\n13                     Comedy',\n",
       " 'Short\\n14                  Animation',\n",
       " 'Short\\n15                Documentary',\n",
       " 'Short\\n16                Documentary',\n",
       " 'Short\\n17                            Short\\n18                     Comedy',\n",
       " 'Short\\n19          Documentary',\n",
       " 'Short',\n",
       " 'Sport\\n20                Documentary',\n",
       " 'Short\\n21                Documentary',\n",
       " 'Short\\n22                       News',\n",
       " 'Short\\n23                 News',\n",
       " 'Short',\n",
       " 'Sport\\n24                Documentary',\n",
       " 'Short\\n25                Documentary',\n",
       " 'Short\\n26                Documentary',\n",
       " 'Short\\n27                Documentary',\n",
       " 'Short\\n28                Documentary',\n",
       " 'Short\\n29                Documentary',\n",
       " 'Short\\n                     ',\n",
       " '',\n",
       " '',\n",
       " '           \\n6089259                       Short\\n6089269                          \\\\N\\n6089281                          \\\\N\\n6089295      Action',\n",
       " 'Horror',\n",
       " 'Thriller\\n6089314                          \\\\N\\n6089322                       Crime\\n6089374                       Crime\\n6089375                      Family\\n6089376                      Family\\n6089388      Animation',\n",
       " 'Comedy',\n",
       " 'Drama\\n6089393                          \\\\N\\n6089415                 Music',\n",
       " 'Short\\n6089416                          \\\\N\\n6089427                          \\\\N\\n6089438                          \\\\N\\n6089448                      Family\\n6089450                          \\\\N\\n6089454                      Family\\n6089485                          \\\\N\\n6089487                          \\\\N\\n6089488                          \\\\N\\n6089489                          \\\\N\\n6089492                          \\\\N\\n6089493                          \\\\N\\n6089494                          \\\\N\\n6089495                          \\\\N\\n6089532                      Family\\n6089533                      Family\\n6089534                      Family\\n6089575                   Game-Show\\nName: genres',\n",
       " ' Length: 2270533',\n",
       " ' dtype: object']"
      ]
     },
     "execution_count": 17,
     "metadata": {},
     "output_type": "execute_result"
    }
   ],
   "source": [
    "import re\n",
    "re.split(',|\\.',str(master_data.genres))"
   ]
  },
  {
   "cell_type": "code",
   "execution_count": 267,
   "metadata": {},
   "outputs": [],
   "source": [
    "genres = master_data.genres.str.split(',', expand=True)"
   ]
  },
  {
   "cell_type": "code",
   "execution_count": 294,
   "metadata": {},
   "outputs": [
    {
     "data": {
      "text/plain": [
       "8              Romance\n",
       "145        Documentary\n",
       "332          Biography\n",
       "499                 \\N\n",
       "571          Biography\n",
       "611              Drama\n",
       "626              Drama\n",
       "669              Drama\n",
       "670              Drama\n",
       "673          Adventure\n",
       "730              Drama\n",
       "784              Drama\n",
       "803                 \\N\n",
       "805                 \\N\n",
       "829                 \\N\n",
       "833                 \\N\n",
       "837                 \\N\n",
       "841                 \\N\n",
       "850                 \\N\n",
       "853                 \\N\n",
       "858                 \\N\n",
       "859                 \\N\n",
       "860                 \\N\n",
       "870                 \\N\n",
       "877              Drama\n",
       "882                 \\N\n",
       "931              Drama\n",
       "937                 \\N\n",
       "949                 \\N\n",
       "973                 \\N\n",
       "              ...     \n",
       "6086157             \\N\n",
       "6086159             \\N\n",
       "6086161             \\N\n",
       "6086166             \\N\n",
       "6086167             \\N\n",
       "6086172             \\N\n",
       "6086176             \\N\n",
       "6086180             \\N\n",
       "6086188             \\N\n",
       "6086198             \\N\n",
       "6086204             \\N\n",
       "6086216             \\N\n",
       "6086234             \\N\n",
       "6086272         Sci-Fi\n",
       "6086281             \\N\n",
       "6086293             \\N\n",
       "6086314             \\N\n",
       "6086709         Action\n",
       "6087142         Comedy\n",
       "6087663             \\N\n",
       "6087840             \\N\n",
       "6087907             \\N\n",
       "6088139             \\N\n",
       "6088149             \\N\n",
       "6088171             \\N\n",
       "6088999         Comedy\n",
       "6089152    Documentary\n",
       "6089206    Documentary\n",
       "6089236    Documentary\n",
       "6089254    Documentary\n",
       "Name: 0, Length: 278311, dtype: object"
      ]
     },
     "execution_count": 294,
     "metadata": {},
     "output_type": "execute_result"
    }
   ],
   "source": [
    "genres[0]"
   ]
  },
  {
   "cell_type": "code",
   "execution_count": 285,
   "metadata": {},
   "outputs": [
    {
     "data": {
      "text/plain": [
       "Romance        7400\n",
       "Drama          5051\n",
       "Thriller       4173\n",
       "Mystery        2019\n",
       "War            1841\n",
       "Fantasy        1555\n",
       "Western        1272\n",
       "Family         1256\n",
       "Crime          1224\n",
       "Sci-Fi         1176\n",
       "Musical        1175\n",
       "History        1136\n",
       "Music          1078\n",
       "Comedy          877\n",
       "Horror          872\n",
       "Sport           561\n",
       "Film-Noir       538\n",
       "Animation       135\n",
       "Documentary      56\n",
       "Biography        29\n",
       "News              8\n",
       "Reality-TV        8\n",
       "Adventure         2\n",
       "Talk-Show         2\n",
       "Game-Show         1\n",
       "Name: 2, dtype: int64"
      ]
     },
     "execution_count": 285,
     "metadata": {},
     "output_type": "execute_result"
    }
   ],
   "source": [
    "genres[2].value_counts()"
   ]
  },
  {
   "cell_type": "code",
   "execution_count": 297,
   "metadata": {},
   "outputs": [],
   "source": [
    "master_data['Genre1'] = genres[0]\n",
    "master_data['Genre2'] = genres[1]\n",
    "master_data['Genre3'] = genres[2]"
   ]
  },
  {
   "cell_type": "code",
   "execution_count": 18,
   "metadata": {},
   "outputs": [
    {
     "data": {
      "text/html": [
       "<div>\n",
       "<style scoped>\n",
       "    .dataframe tbody tr th:only-of-type {\n",
       "        vertical-align: middle;\n",
       "    }\n",
       "\n",
       "    .dataframe tbody tr th {\n",
       "        vertical-align: top;\n",
       "    }\n",
       "\n",
       "    .dataframe thead th {\n",
       "        text-align: right;\n",
       "    }\n",
       "</style>\n",
       "<table border=\"1\" class=\"dataframe\">\n",
       "  <thead>\n",
       "    <tr style=\"text-align: right;\">\n",
       "      <th></th>\n",
       "      <th>tconst</th>\n",
       "      <th>titleType</th>\n",
       "      <th>primaryTitle</th>\n",
       "      <th>originalTitle</th>\n",
       "      <th>isAdult</th>\n",
       "      <th>startYear</th>\n",
       "      <th>endYear</th>\n",
       "      <th>runtimeMinutes</th>\n",
       "      <th>genres</th>\n",
       "      <th>directors</th>\n",
       "      <th>...</th>\n",
       "      <th>(primaryName, cinematographer)</th>\n",
       "      <th>(primaryName, composer)</th>\n",
       "      <th>(primaryName, director)</th>\n",
       "      <th>(primaryName, editor)</th>\n",
       "      <th>(primaryName, producer)</th>\n",
       "      <th>(primaryName, production_designer)</th>\n",
       "      <th>(primaryName, self)</th>\n",
       "      <th>(primaryName, writer)</th>\n",
       "      <th>averageRating</th>\n",
       "      <th>numVotes</th>\n",
       "    </tr>\n",
       "  </thead>\n",
       "  <tbody>\n",
       "    <tr>\n",
       "      <th>373917</th>\n",
       "      <td>tt0389605</td>\n",
       "      <td>tvMiniSeries</td>\n",
       "      <td>Dinosaur Planet</td>\n",
       "      <td>Dinosaur Planet</td>\n",
       "      <td>0</td>\n",
       "      <td>2003.0</td>\n",
       "      <td>\\N</td>\n",
       "      <td>50</td>\n",
       "      <td>Animation,Documentary,Family</td>\n",
       "      <td>nm0504273</td>\n",
       "      <td>...</td>\n",
       "      <td>NaN</td>\n",
       "      <td>NaN</td>\n",
       "      <td>NaN</td>\n",
       "      <td>NaN</td>\n",
       "      <td>NaN</td>\n",
       "      <td>NaN</td>\n",
       "      <td>Scott Sampson</td>\n",
       "      <td>NaN</td>\n",
       "      <td>7.7</td>\n",
       "      <td>411.0</td>\n",
       "    </tr>\n",
       "  </tbody>\n",
       "</table>\n",
       "<p>1 rows × 25 columns</p>\n",
       "</div>"
      ],
      "text/plain": [
       "           tconst     titleType     primaryTitle    originalTitle  isAdult  \\\n",
       "373917  tt0389605  tvMiniSeries  Dinosaur Planet  Dinosaur Planet        0   \n",
       "\n",
       "        startYear endYear runtimeMinutes                        genres  \\\n",
       "373917     2003.0      \\N             50  Animation,Documentary,Family   \n",
       "\n",
       "        directors  ... (primaryName, cinematographer) (primaryName, composer)  \\\n",
       "373917  nm0504273  ...                            NaN                     NaN   \n",
       "\n",
       "       (primaryName, director) (primaryName, editor) (primaryName, producer)  \\\n",
       "373917                     NaN                   NaN                     NaN   \n",
       "\n",
       "       (primaryName, production_designer) (primaryName, self)  \\\n",
       "373917                                NaN       Scott Sampson   \n",
       "\n",
       "       (primaryName, writer) averageRating numVotes  \n",
       "373917                   NaN           7.7    411.0  \n",
       "\n",
       "[1 rows x 25 columns]"
      ]
     },
     "execution_count": 18,
     "metadata": {},
     "output_type": "execute_result"
    }
   ],
   "source": [
    "master_data[master_data.primaryTitle == \"Dinosaur Planet\"]"
   ]
  },
  {
   "cell_type": "code",
   "execution_count": 19,
   "metadata": {},
   "outputs": [],
   "source": [
    "os.chdir(\"C:\\\\Users\\\\akars\\\\OneDrive\\\\Desktop\\\\MScA Spring\\\\Data Mining\\\\Project\\\\Final Project\")\n",
    "master_data_csv = master_data.to_csv('masterdata.csv', index = None, header = True)"
   ]
  },
  {
   "cell_type": "code",
   "execution_count": 21,
   "metadata": {},
   "outputs": [
    {
     "name": "stderr",
     "output_type": "stream",
     "text": [
      "C:\\Users\\akars\\Anaconda3\\lib\\site-packages\\ipykernel_launcher.py:2: FutureWarning: from_csv is deprecated. Please use read_csv(...) instead. Note that some of the default arguments are different, so please refer to the documentation for from_csv when changing your function calls\n",
      "  \n"
     ]
    }
   ],
   "source": [
    "from pandas import DataFrame \n",
    "netflixdata = DataFrame.from_csv('movie_c.csv')"
   ]
  },
  {
   "cell_type": "code",
   "execution_count": 22,
   "metadata": {},
   "outputs": [
    {
     "data": {
      "text/html": [
       "<div>\n",
       "<style scoped>\n",
       "    .dataframe tbody tr th:only-of-type {\n",
       "        vertical-align: middle;\n",
       "    }\n",
       "\n",
       "    .dataframe tbody tr th {\n",
       "        vertical-align: top;\n",
       "    }\n",
       "\n",
       "    .dataframe thead th {\n",
       "        text-align: right;\n",
       "    }\n",
       "</style>\n",
       "<table border=\"1\" class=\"dataframe\">\n",
       "  <thead>\n",
       "    <tr style=\"text-align: right;\">\n",
       "      <th></th>\n",
       "      <th>movie_id</th>\n",
       "      <th>year</th>\n",
       "      <th>movie_name</th>\n",
       "      <th>customer_id</th>\n",
       "      <th>rating</th>\n",
       "      <th>date</th>\n",
       "    </tr>\n",
       "  </thead>\n",
       "  <tbody>\n",
       "    <tr>\n",
       "      <th>0</th>\n",
       "      <td>1</td>\n",
       "      <td>2003.0</td>\n",
       "      <td>Dinosaur Planet</td>\n",
       "      <td>1488844</td>\n",
       "      <td>3.0</td>\n",
       "      <td>2005-09-06</td>\n",
       "    </tr>\n",
       "    <tr>\n",
       "      <th>1</th>\n",
       "      <td>1</td>\n",
       "      <td>2003.0</td>\n",
       "      <td>Dinosaur Planet</td>\n",
       "      <td>822109</td>\n",
       "      <td>5.0</td>\n",
       "      <td>2005-05-13</td>\n",
       "    </tr>\n",
       "    <tr>\n",
       "      <th>2</th>\n",
       "      <td>1</td>\n",
       "      <td>2003.0</td>\n",
       "      <td>Dinosaur Planet</td>\n",
       "      <td>885013</td>\n",
       "      <td>4.0</td>\n",
       "      <td>2005-10-19</td>\n",
       "    </tr>\n",
       "    <tr>\n",
       "      <th>3</th>\n",
       "      <td>1</td>\n",
       "      <td>2003.0</td>\n",
       "      <td>Dinosaur Planet</td>\n",
       "      <td>30878</td>\n",
       "      <td>4.0</td>\n",
       "      <td>2005-12-26</td>\n",
       "    </tr>\n",
       "    <tr>\n",
       "      <th>4</th>\n",
       "      <td>1</td>\n",
       "      <td>2003.0</td>\n",
       "      <td>Dinosaur Planet</td>\n",
       "      <td>823519</td>\n",
       "      <td>3.0</td>\n",
       "      <td>2004-05-03</td>\n",
       "    </tr>\n",
       "  </tbody>\n",
       "</table>\n",
       "</div>"
      ],
      "text/plain": [
       "   movie_id    year       movie_name  customer_id  rating        date\n",
       "0         1  2003.0  Dinosaur Planet      1488844     3.0  2005-09-06\n",
       "1         1  2003.0  Dinosaur Planet       822109     5.0  2005-05-13\n",
       "2         1  2003.0  Dinosaur Planet       885013     4.0  2005-10-19\n",
       "3         1  2003.0  Dinosaur Planet        30878     4.0  2005-12-26\n",
       "4         1  2003.0  Dinosaur Planet       823519     3.0  2004-05-03"
      ]
     },
     "execution_count": 22,
     "metadata": {},
     "output_type": "execute_result"
    }
   ],
   "source": [
    "netflixdata.head()"
   ]
  },
  {
   "cell_type": "code",
   "execution_count": 23,
   "metadata": {},
   "outputs": [],
   "source": [
    "netflixdata = pd.merge(netflixdata, master_data, how='left', left_on=['movie_name','year'], right_on=['primaryTitle','startYear'])"
   ]
  },
  {
   "cell_type": "code",
   "execution_count": 25,
   "metadata": {},
   "outputs": [],
   "source": [
    "netflixdata.to_csv('netflixdata.csv', index = None, header = True)"
   ]
  }
 ],
 "metadata": {
  "kernelspec": {
   "display_name": "Python 3",
   "language": "python",
   "name": "python3"
  },
  "language_info": {
   "codemirror_mode": {
    "name": "ipython",
    "version": 3
   },
   "file_extension": ".py",
   "mimetype": "text/x-python",
   "name": "python",
   "nbconvert_exporter": "python",
   "pygments_lexer": "ipython3",
   "version": "3.7.3"
  }
 },
 "nbformat": 4,
 "nbformat_minor": 2
}
